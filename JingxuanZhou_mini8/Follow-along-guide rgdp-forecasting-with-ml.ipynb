{
 "cells": [
  {
   "cell_type": "markdown",
   "id": "8bf63c66",
   "metadata": {
    "_cell_guid": "b1076dfc-b9ad-4769-8c92-a6c4dae69d19",
    "_uuid": "8f2839f25d086af736a60e9eeb907d3b93b6e0e5",
    "papermill": {
     "duration": 0.008028,
     "end_time": "2022-07-05T14:49:40.021433",
     "exception": false,
     "start_time": "2022-07-05T14:49:40.013405",
     "status": "completed"
    },
    "tags": []
   },
   "source": [
    "# Predicting GDP Using Regression Models in Python\n",
    "\n",
    "This notebook demonstrates a regression workflow inspired by your R code that uses:\n",
    "- **Linear Regression**\n",
    "- **Ridge Regression**\n",
    "- **Lasso Regression**\n",
    "- **Elastic Net**\n",
    "\n",
    "We'll compare these models and choose the best one based on cross-validation performance.\n",
    "\n",
    "---\n",
    "\n",
    "This notebook demonstrates how to predict **GDP** using multiple economic indicators:\n",
    "- Unemployment Rate (UNRATE)\n",
    "- Inflation (FPCPITOTLZGUSA)\n",
    "- Federal Funds Rate (FEDFUNDS)\n",
    "\n",
    "* https://fred.stlouisfed.org/series/GDPC1 \n",
    "* https://fred.stlouisfed.org/series/UNRATE \n",
    "* https://fred.stlouisfed.org/series/FPCPITOTLZGUSA \n",
    "* https://fred.stlouisfed.org/series/FEDFUNDS \n",
    "\n",
    "\n"
   ]
  },
  {
   "cell_type": "markdown",
   "id": "10957e55",
   "metadata": {},
   "source": [
    "## 1. Import Required Libraries"
   ]
  },
  {
   "cell_type": "code",
   "execution_count": 2,
   "id": "b0fc904d",
   "metadata": {
    "execution": {
     "iopub.execute_input": "2022-07-05T14:49:40.037969Z",
     "iopub.status.busy": "2022-07-05T14:49:40.037212Z",
     "iopub.status.idle": "2022-07-05T14:49:41.456793Z",
     "shell.execute_reply": "2022-07-05T14:49:41.455672Z"
    },
    "papermill": {
     "duration": 1.431176,
     "end_time": "2022-07-05T14:49:41.459708",
     "exception": false,
     "start_time": "2022-07-05T14:49:40.028532",
     "status": "completed"
    },
    "tags": []
   },
   "outputs": [],
   "source": [
    "import pandas as pd\n",
    "import numpy as np\n",
    "import matplotlib.pyplot as plt\n",
    "import seaborn as sns\n",
    "\n",
    "# Scikit-learn for modeling\n",
    "from sklearn.model_selection import train_test_split, GridSearchCV, cross_val_score\n",
    "from sklearn.linear_model import LinearRegression, Ridge, Lasso, ElasticNet\n",
    "from sklearn.preprocessing import StandardScaler\n",
    "from sklearn.pipeline import Pipeline\n",
    "from sklearn.metrics import mean_squared_error\n",
    "\n",
    "# For saving/loading the final model\n",
    "import joblib\n",
    "\n",
    "sns.set_style(\"whitegrid\")\n"
   ]
  },
  {
   "cell_type": "markdown",
   "id": "70baeb54",
   "metadata": {},
   "source": [
    "## 2. Load and Prepare Data\n",
    "\n",
    "We'll assume you have four CSV files:\n",
    "- `GDP.csv` containing columns `[observation_date, GDPC1]`\n",
    "- `UNRATE.csv` containing columns `[observation_date, UNRATE]`\n",
    "- `FPCPITOTLZGUSA.csv` containing columns `[observation_date, FPCPITOTLZGUSA]`\n",
    "- `FEDFUNDS.csv` containing columns `[observation_date, FEDFUNDS]`\n",
    "\n",
    "We will:\n",
    "1. Read each CSV\n",
    "2. Parse `observation_date` as datetime\n",
    "3. Merge them into a single DataFrame (inner join on Date)\n",
    "4. Drop missing values\n",
    "5. Create train/test splits"
   ]
  },
  {
   "cell_type": "code",
   "execution_count": 3,
   "id": "8d87a774",
   "metadata": {
    "execution": {
     "iopub.execute_input": "2022-07-05T14:49:41.489232Z",
     "iopub.status.busy": "2022-07-05T14:49:41.488848Z",
     "iopub.status.idle": "2022-07-05T14:49:41.727794Z",
     "shell.execute_reply": "2022-07-05T14:49:41.726477Z"
    },
    "papermill": {
     "duration": 0.249992,
     "end_time": "2022-07-05T14:49:41.730501",
     "exception": false,
     "start_time": "2022-07-05T14:49:41.480509",
     "status": "completed"
    },
    "tags": []
   },
   "outputs": [
    {
     "name": "stdout",
     "output_type": "stream",
     "text": [
      "Data after merging:\n",
      "        Date       GDP  UnemploymentRate  Inflation  FedFundsRate\n",
      "0 1960-01-01  3517.181               5.2   1.457976          3.99\n",
      "1 1961-01-01  3493.703               6.6   1.070724          1.45\n",
      "2 1962-01-01  3758.147               5.8   1.198773          2.15\n",
      "3 1963-01-01  3893.482               5.7   1.239669          2.92\n",
      "4 1964-01-01  4135.553               5.6   1.278912          3.48\n",
      "5 1965-01-01  4362.111               4.9   1.585169          3.90\n",
      "6 1966-01-01  4731.888               4.0   3.015075          4.42\n",
      "7 1967-01-01  4870.299               3.9   2.772786          4.94\n",
      "8 1968-01-01  5057.553               3.7   4.271796          4.61\n",
      "9 1969-01-01  5283.597               3.4   5.462386          6.30\n",
      "\n",
      "Data shape: (64, 5)\n",
      "\n",
      "Data shape after dropping NA: (64, 5)\n",
      "\n",
      "Date range: 1960-01-01 00:00:00 to 2023-01-01 00:00:00\n"
     ]
    }
   ],
   "source": [
    "# -------------------------\n",
    "# 1) Load GDP data\n",
    "# -------------------------\n",
    "gdp = pd.read_csv(\"GDPC1.csv\", parse_dates=[\"observation_date\"])\n",
    "gdp.rename(columns={\"observation_date\": \"Date\", \"GDPC1\": \"GDP\"}, inplace=True)\n",
    "gdp.sort_values(\"Date\", inplace=True)\n",
    "\n",
    "# -------------------------\n",
    "# 2) Load UNRATE data\n",
    "# -------------------------\n",
    "unrate = pd.read_csv(\"UNRATE.csv\", parse_dates=[\"observation_date\"])\n",
    "unrate.rename(columns={\"observation_date\": \"Date\"}, inplace=True)\n",
    "unrate.sort_values(\"Date\", inplace=True)\n",
    "\n",
    "# -------------------------\n",
    "# 3) Load Inflation data\n",
    "# -------------------------\n",
    "infl = pd.read_csv(\"FPCPITOTLZGUSA.csv\", parse_dates=[\"observation_date\"])\n",
    "infl.rename(columns={\"observation_date\": \"Date\"}, inplace=True)\n",
    "infl.sort_values(\"Date\", inplace=True)\n",
    "\n",
    "# -------------------------\n",
    "# 4) Load FEDFUNDS data\n",
    "# -------------------------\n",
    "fedfunds = pd.read_csv(\"FEDFUNDS.csv\", parse_dates=[\"observation_date\"])\n",
    "fedfunds.rename(columns={\"observation_date\": \"Date\"}, inplace=True)\n",
    "fedfunds.sort_values(\"Date\", inplace=True)\n",
    "\n",
    "# -------------------------\n",
    "# Merge everything\n",
    "# -------------------------\n",
    "df_merged = pd.merge(gdp, unrate, on=\"Date\", how=\"inner\")\n",
    "df_merged = pd.merge(df_merged, infl, on=\"Date\", how=\"inner\")\n",
    "df_merged = pd.merge(df_merged, fedfunds, on=\"Date\", how=\"inner\")\n",
    "\n",
    "# Rename columns for clarity\n",
    "df_merged.rename(columns={\n",
    "    \"UNRATE\": \"UnemploymentRate\",\n",
    "    \"FPCPITOTLZGUSA\": \"Inflation\",\n",
    "    \"FEDFUNDS\": \"FedFundsRate\"\n",
    "}, inplace=True)\n",
    "\n",
    "# Sort final DataFrame\n",
    "df_merged.sort_values(\"Date\", inplace=True)\n",
    "df_merged.reset_index(drop=True, inplace=True)\n",
    "\n",
    "print(\"Data after merging:\")\n",
    "print(df_merged.head(10))\n",
    "print(\"\\nData shape:\", df_merged.shape)\n",
    "\n",
    "# Drop any rows with missing values\n",
    "df_merged.dropna(inplace=True)\n",
    "print(\"\\nData shape after dropping NA:\", df_merged.shape)\n",
    "\n",
    "# Check final coverage\n",
    "print(\"\\nDate range:\", df_merged[\"Date\"].min(), \"to\", df_merged[\"Date\"].max())\n"
   ]
  },
  {
   "cell_type": "markdown",
   "id": "054fe5c4",
   "metadata": {},
   "source": [
    "%% [markdown]\n",
    "### 2.1 Feature and Target Selection\n",
    "\n",
    "We will predict `GDP` using:\n",
    "- `UnemploymentRate`\n",
    "- `Inflation`\n",
    "- `FedFundsRate`\n",
    "\n",
    "In a real project, you might do more feature engineering or alignment."
   ]
  },
  {
   "cell_type": "code",
   "execution_count": 4,
   "id": "067b7567",
   "metadata": {
    "execution": {
     "iopub.execute_input": "2022-07-05T14:49:41.746405Z",
     "iopub.status.busy": "2022-07-05T14:49:41.745996Z",
     "iopub.status.idle": "2022-07-05T14:49:43.128301Z",
     "shell.execute_reply": "2022-07-05T14:49:43.127072Z"
    },
    "papermill": {
     "duration": 1.395894,
     "end_time": "2022-07-05T14:49:43.133488",
     "exception": false,
     "start_time": "2022-07-05T14:49:41.737594",
     "status": "completed"
    },
    "tags": []
   },
   "outputs": [
    {
     "name": "stdout",
     "output_type": "stream",
     "text": [
      "Feature summary:\n",
      "       UnemploymentRate  Inflation  FedFundsRate\n",
      "count         64.000000  64.000000     64.000000\n",
      "mean           5.881250   3.770332      4.712500\n",
      "std            1.599988   2.762789      3.748391\n",
      "min            3.400000  -0.355546      0.070000\n",
      "25%            4.700000   1.876588      1.685000\n",
      "50%            5.700000   3.021948      4.375000\n",
      "75%            6.625000   4.399866      6.497500\n",
      "max           10.400000  13.549202     19.080000\n",
      "\n",
      "Target summary (GDP):\n",
      "count       64.000000\n",
      "mean     11319.421438\n",
      "std       5624.681697\n",
      "min       3493.703000\n",
      "25%       6267.051250\n",
      "50%      10141.910500\n",
      "75%      16411.053750\n",
      "max      22403.435000\n",
      "Name: GDP, dtype: float64\n"
     ]
    }
   ],
   "source": [
    "# Define target (y) and features (X)\n",
    "X = df_merged[[\"UnemploymentRate\", \"Inflation\", \"FedFundsRate\"]]\n",
    "y = df_merged[\"GDP\"]\n",
    "\n",
    "# Quick look at descriptive statistics\n",
    "print(\"Feature summary:\")\n",
    "print(X.describe())\n",
    "\n",
    "print(\"\\nTarget summary (GDP):\")\n",
    "print(y.describe())\n"
   ]
  },
  {
   "cell_type": "markdown",
   "id": "def78670",
   "metadata": {},
   "source": [
    "## 3. Data Partition\n",
    "\n",
    "We'll do a simple 70/30 train-test split. \n",
    "Set a random seed for reproducibility."
   ]
  },
  {
   "cell_type": "code",
   "execution_count": 5,
   "id": "480994c3",
   "metadata": {},
   "outputs": [
    {
     "name": "stdout",
     "output_type": "stream",
     "text": [
      "Training set size: (44, 3)\n",
      "Test set size: (20, 3)\n"
     ]
    }
   ],
   "source": [
    "X_train, X_test, y_train, y_test = train_test_split(\n",
    "    X, y,\n",
    "    test_size=0.3,\n",
    "    random_state=222\n",
    ")\n",
    "\n",
    "print(\"Training set size:\", X_train.shape)\n",
    "print(\"Test set size:\", X_test.shape)\n"
   ]
  },
  {
   "cell_type": "markdown",
   "id": "e2bad66e",
   "metadata": {},
   "source": [
    "## 4. Model Training with Cross-Validation\n",
    "\n",
    "We'll create pipelines for:\n",
    "1. **Linear Regression** (no regularization)\n",
    "2. **Ridge** (L2 regularization)\n",
    "3. **Lasso** (L1 regularization)\n",
    "4. **Elastic Net** (mix of L1 & L2)\n",
    "\n",
    "Each pipeline will include:\n",
    "- `StandardScaler()` (scales features)\n",
    "- The regression model\n",
    "\n",
    "We'll use **5-fold cross-validation** to select the best hyperparameters\n",
    "(e.g., `alpha`) for ridge, lasso, and elastic net."
   ]
  },
  {
   "cell_type": "code",
   "execution_count": 6,
   "id": "cbf545ac",
   "metadata": {},
   "outputs": [
    {
     "name": "stdout",
     "output_type": "stream",
     "text": [
      "Linear Regression CV RMSE: 5270.744709566352\n",
      "Best Ridge alpha: {'ridge__alpha': 10}\n",
      "Ridge Regression CV RMSE: 5200.923829669878\n",
      "Best Lasso alpha: {'lasso__alpha': 10}\n",
      "Lasso Regression CV RMSE: 5305.46654031659\n",
      "Best Elastic Net alpha & l1_ratio: {'en__alpha': 1, 'en__l1_ratio': 0.5}\n",
      "Elastic Net CV RMSE: 5190.645414731823\n"
     ]
    }
   ],
   "source": [
    "from sklearn.pipeline import Pipeline\n",
    "from sklearn.model_selection import cross_val_score, GridSearchCV\n",
    "\n",
    "def evaluate_model(model, X, y, cv=5):\n",
    "    \"\"\"\n",
    "    Utility to compute cross-validated RMSE for a model.\n",
    "    \"\"\"\n",
    "    neg_mse = cross_val_score(model, X, y, \n",
    "                              scoring='neg_mean_squared_error', \n",
    "                              cv=cv)\n",
    "    rmse = np.sqrt(-neg_mse)\n",
    "    return rmse.mean()\n",
    "\n",
    "# 1) Linear Regression\n",
    "from sklearn.linear_model import LinearRegression\n",
    "lr_pipeline = Pipeline([\n",
    "    (\"scaler\", StandardScaler()),\n",
    "    (\"lr\", LinearRegression())\n",
    "])\n",
    "lr_cv_rmse = evaluate_model(lr_pipeline, X_train, y_train, cv=5)\n",
    "print(\"Linear Regression CV RMSE:\", lr_cv_rmse)\n",
    "\n",
    "# 2) Ridge Regression\n",
    "from sklearn.linear_model import Ridge\n",
    "ridge_params = {'ridge__alpha': [0.01, 0.1, 1, 10, 100]}\n",
    "ridge_pipeline = Pipeline([\n",
    "    (\"scaler\", StandardScaler()),\n",
    "    (\"ridge\", Ridge())\n",
    "])\n",
    "ridge_grid = GridSearchCV(ridge_pipeline, ridge_params, \n",
    "                          scoring='neg_mean_squared_error', \n",
    "                          cv=5)\n",
    "ridge_grid.fit(X_train, y_train)\n",
    "ridge_cv_rmse = np.sqrt(-ridge_grid.best_score_)\n",
    "print(\"Best Ridge alpha:\", ridge_grid.best_params_)\n",
    "print(\"Ridge Regression CV RMSE:\", ridge_cv_rmse)\n",
    "\n",
    "# 3) Lasso Regression\n",
    "from sklearn.linear_model import Lasso\n",
    "lasso_params = {'lasso__alpha': [0.001, 0.01, 0.1, 1, 10]}\n",
    "lasso_pipeline = Pipeline([\n",
    "    (\"scaler\", StandardScaler()),\n",
    "    (\"lasso\", Lasso(max_iter=10000))\n",
    "])\n",
    "lasso_grid = GridSearchCV(lasso_pipeline, lasso_params, \n",
    "                          scoring='neg_mean_squared_error', \n",
    "                          cv=5)\n",
    "lasso_grid.fit(X_train, y_train)\n",
    "lasso_cv_rmse = np.sqrt(-lasso_grid.best_score_)\n",
    "print(\"Best Lasso alpha:\", lasso_grid.best_params_)\n",
    "print(\"Lasso Regression CV RMSE:\", lasso_cv_rmse)\n",
    "\n",
    "# 4) Elastic Net\n",
    "from sklearn.linear_model import ElasticNet\n",
    "en_params = {\n",
    "    'en__alpha': [0.001, 0.01, 0.1, 1, 10],\n",
    "    'en__l1_ratio': [0.2, 0.5, 0.8]\n",
    "}\n",
    "en_pipeline = Pipeline([\n",
    "    (\"scaler\", StandardScaler()),\n",
    "    (\"en\", ElasticNet(max_iter=10000))\n",
    "])\n",
    "en_grid = GridSearchCV(en_pipeline, en_params, \n",
    "                       scoring='neg_mean_squared_error', \n",
    "                       cv=5)\n",
    "en_grid.fit(X_train, y_train)\n",
    "en_cv_rmse = np.sqrt(-en_grid.best_score_)\n",
    "print(\"Best Elastic Net alpha & l1_ratio:\", en_grid.best_params_)\n",
    "print(\"Elastic Net CV RMSE:\", en_cv_rmse)\n"
   ]
  },
  {
   "cell_type": "markdown",
   "id": "85870848",
   "metadata": {},
   "source": [
    "### 4.1 Compare Models\n",
    "\n",
    "We'll pick the model with the lowest cross-validated RMSE as our \"best\" model in-sample."
   ]
  },
  {
   "cell_type": "code",
   "execution_count": 7,
   "id": "5a150019",
   "metadata": {},
   "outputs": [
    {
     "name": "stdout",
     "output_type": "stream",
     "text": [
      "CV RMSE Scores: {'Linear': np.float64(5270.744709566352), 'Ridge': np.float64(5200.923829669878), 'Lasso': np.float64(5305.46654031659), 'ElasticNet': np.float64(5190.645414731823)}\n",
      "Best model in cross-validation: ElasticNet\n"
     ]
    }
   ],
   "source": [
    "\n",
    "models_cv = {\n",
    "    \"Linear\": lr_cv_rmse,\n",
    "    \"Ridge\": ridge_cv_rmse,\n",
    "    \"Lasso\": lasso_cv_rmse,\n",
    "    \"ElasticNet\": en_cv_rmse\n",
    "}\n",
    "\n",
    "best_model_name = min(models_cv, key=models_cv.get)\n",
    "print(\"CV RMSE Scores:\", models_cv)\n",
    "print(\"Best model in cross-validation:\", best_model_name)\n"
   ]
  },
  {
   "cell_type": "markdown",
   "id": "6b62ca9e",
   "metadata": {},
   "source": [
    "## 5. Final Model and Testing\n",
    "\n",
    "We refit the best model on the entire training set, then evaluate on the hold-out test set.\n"
   ]
  },
  {
   "cell_type": "code",
   "execution_count": 8,
   "id": "1e667c65",
   "metadata": {},
   "outputs": [
    {
     "name": "stdout",
     "output_type": "stream",
     "text": [
      "Test RMSE (ElasticNet): 5381.665213271924\n"
     ]
    }
   ],
   "source": [
    "if best_model_name == \"Linear\":\n",
    "    final_model = lr_pipeline\n",
    "    final_model.fit(X_train, y_train)\n",
    "elif best_model_name == \"Ridge\":\n",
    "    final_model = ridge_grid.best_estimator_\n",
    "elif best_model_name == \"Lasso\":\n",
    "    final_model = lasso_grid.best_estimator_\n",
    "else:\n",
    "    final_model = en_grid.best_estimator_\n",
    "\n",
    "final_model.fit(X_train, y_train)\n",
    "\n",
    "# Predictions on test set\n",
    "y_pred_test = final_model.predict(X_test)\n",
    "test_rmse = np.sqrt(mean_squared_error(y_test, y_pred_test))\n",
    "print(f\"Test RMSE ({best_model_name}):\", test_rmse)\n"
   ]
  },
  {
   "cell_type": "markdown",
   "id": "6e1f73c1",
   "metadata": {},
   "source": [
    "### 5.1 Variable Importance\n",
    "\n",
    "For linear, ridge, lasso, and elastic net, we can interpret the model coefficients (after scaling).\n",
    "Note that we used a `StandardScaler`, so these coefficients are in standardized form.\n"
   ]
  },
  {
   "cell_type": "code",
   "execution_count": 9,
   "id": "79709391",
   "metadata": {},
   "outputs": [
    {
     "name": "stdout",
     "output_type": "stream",
     "text": [
      "Coefficients (standardized):\n",
      "            Feature  Coefficient  AbsCoefficient\n",
      "2      FedFundsRate -1838.736721     1838.736721\n",
      "1         Inflation  -193.316744      193.316744\n",
      "0  UnemploymentRate  -119.753631      119.753631\n"
     ]
    }
   ],
   "source": [
    "if best_model_name == \"Linear\":\n",
    "    reg_step = final_model.named_steps[\"lr\"]\n",
    "elif best_model_name == \"Ridge\":\n",
    "    reg_step = final_model.named_steps[\"ridge\"]\n",
    "elif best_model_name == \"Lasso\":\n",
    "    reg_step = final_model.named_steps[\"lasso\"]\n",
    "else:\n",
    "    reg_step = final_model.named_steps[\"en\"]\n",
    "\n",
    "coefs = reg_step.coef_\n",
    "feature_names = X_train.columns\n",
    "\n",
    "coef_df = pd.DataFrame({\n",
    "    \"Feature\": feature_names,\n",
    "    \"Coefficient\": coefs,\n",
    "    \"AbsCoefficient\": np.abs(coefs)\n",
    "}).sort_values(\"AbsCoefficient\", ascending=False)\n",
    "\n",
    "print(\"Coefficients (standardized):\")\n",
    "print(coef_df)\n"
   ]
  },
  {
   "cell_type": "markdown",
   "id": "ec67c928",
   "metadata": {},
   "source": [
    "## 6. Save the Final Model for Later Use"
   ]
  },
  {
   "cell_type": "code",
   "execution_count": 10,
   "id": "1ef99848",
   "metadata": {},
   "outputs": [
    {
     "name": "stdout",
     "output_type": "stream",
     "text": [
      "Model saved to final_model.pkl\n"
     ]
    }
   ],
   "source": [
    "joblib.dump(final_model, \"final_model.pkl\")\n",
    "print(\"Model saved to final_model.pkl\")\n"
   ]
  },
  {
   "cell_type": "markdown",
   "id": "8fae3273",
   "metadata": {},
   "source": [
    "### 6.1 Load and Use the Saved Model\n"
   ]
  },
  {
   "cell_type": "code",
   "execution_count": 11,
   "id": "a9f951d7",
   "metadata": {},
   "outputs": [
    {
     "name": "stdout",
     "output_type": "stream",
     "text": [
      "RMSE using loaded model: 5381.665213271924\n"
     ]
    }
   ],
   "source": [
    "loaded_model = joblib.load(\"final_model.pkl\")\n",
    "y_pred_loaded = loaded_model.predict(X_test)\n",
    "rmse_loaded = np.sqrt(mean_squared_error(y_test, y_pred_loaded))\n",
    "print(\"RMSE using loaded model:\", rmse_loaded)\n"
   ]
  },
  {
   "cell_type": "markdown",
   "id": "3dde3d26",
   "metadata": {},
   "source": [
    "## 7. Conclusion\n",
    "\n",
    "In this notebook, we:\n",
    "\n",
    "1. **Merged** GDP, Unemployment, Inflation, and Fed Funds data on their common dates (naively).\n",
    "2. **Split** the data into training (70%) and testing (30%).\n",
    "3. **Trained** four regression models:\n",
    "   - Linear Regression\n",
    "   - Ridge\n",
    "   - Lasso\n",
    "   - Elastic Net  \n",
    "   using **5-fold cross-validation**.\n",
    "4. **Selected** the best model based on cross-validated RMSE and tested on the hold-out set.\n",
    "5. **Saved** the final model to disk for future use.\n",
    "\n",
    "**Next Steps**:\n",
    "- Align data frequencies properly (quarterly vs. monthly).\n",
    "- Add more features or transformations (e.g., lags, differencing).\n",
    "- Conduct a more thorough hyperparameter search.\n",
    "- Consider time-series-specific techniques if you need to account for autocorrelation and future predictions more rigorously.\n",
    "\n",
    "**End of Notebook**\n"
   ]
  },
  {
   "cell_type": "markdown",
   "id": "0567058e",
   "metadata": {
    "papermill": {
     "duration": 0.014828,
     "end_time": "2022-07-05T14:50:18.332328",
     "exception": false,
     "start_time": "2022-07-05T14:50:18.317500",
     "status": "completed"
    },
    "tags": []
   },
   "source": [
    "# The End"
   ]
  }
 ],
 "metadata": {
  "kernelspec": {
   "display_name": "Python 3",
   "language": "python",
   "name": "python3"
  },
  "language_info": {
   "codemirror_mode": {
    "name": "ipython",
    "version": 3
   },
   "file_extension": ".py",
   "mimetype": "text/x-python",
   "name": "python",
   "nbconvert_exporter": "python",
   "pygments_lexer": "ipython3",
   "version": "3.13.2"
  },
  "papermill": {
   "default_parameters": {},
   "duration": 48.956079,
   "end_time": "2022-07-05T14:50:19.170306",
   "environment_variables": {},
   "exception": null,
   "input_path": "__notebook__.ipynb",
   "output_path": "__notebook__.ipynb",
   "parameters": {},
   "start_time": "2022-07-05T14:49:30.214227",
   "version": "2.3.4"
  }
 },
 "nbformat": 4,
 "nbformat_minor": 5
}
